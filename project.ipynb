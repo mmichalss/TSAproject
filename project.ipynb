{
 "cells": [
  {
   "cell_type": "markdown",
   "metadata": {},
   "source": [
    "https://neptune.ai/blog/select-model-for-time-series-prediction-task\n",
    "\n",
    "https://towardsdatascience.com/anomaly-detection-in-time-series-sensor-data-86fd52e62538"
   ]
  },
  {
   "cell_type": "code",
   "execution_count": null,
   "metadata": {},
   "outputs": [],
   "source": [
    "import pandas as pd\n",
    "import numpy as np\n",
    "import matplotlib.pyplot as plt\n",
    "from statsmodels.tsa.stattools import adfuller\n",
    "from statsmodels.graphics import tsaplots"
   ]
  },
  {
   "cell_type": "code",
   "execution_count": null,
   "metadata": {},
   "outputs": [],
   "source": [
    "data = pd.read_csv('PWHEAMTUSDM.csv', parse_dates=True, index_col=0)\n",
    "\n",
    "data.plot()\n",
    "\n",
    "print(adfuller(data))\n",
    "\n",
    "data = data.diff().dropna()\n",
    "data.plot()\n",
    "print(adfuller(data))\n",
    "fig = tsaplots.plot_acf(data, color='r', lags=20, zero=False)\n",
    "plt.show()"
   ]
  },
  {
   "cell_type": "markdown",
   "metadata": {},
   "source": [
    "Now the data is stationary and has no autocorelation."
   ]
  },
  {
   "cell_type": "markdown",
   "metadata": {},
   "source": [
    "We'll use 3 algorithms to detect anomalies:\n",
    "\n",
    "1. Benchamark model: Interquartile Range (IQR)\n",
    "2. K-Means clustering\n",
    "3. Isolation forest"
   ]
  },
  {
   "cell_type": "markdown",
   "metadata": {},
   "source": [
    "1. IQR"
   ]
  },
  {
   "cell_type": "code",
   "execution_count": null,
   "metadata": {},
   "outputs": [],
   "source": [
    "q1_data, q3_data = data['PWHEAMTUSDM'].quantile([0.25, 0.75])\n",
    "iqr_data = q3_data - q1_data\n",
    "\n",
    "lower_bound = q1_data - 1.5 * iqr_data\n",
    "upper_bound = q3_data + 1.5 * iqr_data\n",
    "\n",
    "print(lower_bound, upper_bound)"
   ]
  },
  {
   "cell_type": "markdown",
   "metadata": {},
   "source": [
    "Filtering out outliers"
   ]
  },
  {
   "cell_type": "code",
   "execution_count": null,
   "metadata": {},
   "outputs": [],
   "source": [
    "data['anomaly1'] = ((data>upper_bound) | (data<lower_bound)).astype(int)\n"
   ]
  },
  {
   "cell_type": "markdown",
   "metadata": {},
   "source": [
    "Plotting"
   ]
  },
  {
   "cell_type": "code",
   "execution_count": null,
   "metadata": {},
   "outputs": [],
   "source": [
    "a = data[data['anomaly1'] == 1] #anomaly\n",
    "_ = plt.figure(figsize=(18,6))\n",
    "_ = plt.plot(data['PWHEAMTUSDM'], color='blue', label='Normal')\n",
    "_ = plt.plot(a['PWHEAMTUSDM'], linestyle='none', marker='X', color='red', markersize=12, label='Anomaly')\n",
    "_ = plt.xlabel('Year')\n",
    "_ = plt.ylabel('Wheat price in USD')\n",
    "_ = plt.title('IQR based Anomalies')\n",
    "_ = plt.legend(loc='best')\n",
    "plt.show()"
   ]
  },
  {
   "cell_type": "markdown",
   "metadata": {},
   "source": [
    "2.1. K-means Clustering"
   ]
  },
  {
   "cell_type": "code",
   "execution_count": null,
   "metadata": {},
   "outputs": [],
   "source": [
    "from sklearn.cluster import KMeans"
   ]
  },
  {
   "cell_type": "code",
   "execution_count": null,
   "metadata": {},
   "outputs": [],
   "source": [
    "kmeans = KMeans(n_clusters=2, random_state=42)\n",
    "kmeans.fit(data.values)\n",
    "labels = kmeans.predict(data.values)\n",
    "unique_elements, counts_elements = np.unique(labels, return_counts=True)\n",
    "clusters = np.asarray((unique_elements, counts_elements))"
   ]
  },
  {
   "cell_type": "code",
   "execution_count": null,
   "metadata": {},
   "outputs": [],
   "source": [
    "#function which calculates distance between each point and the centroid of the closest cluster\n",
    "\n",
    "def getDistanceBetweenPointsAndCentroid(data, model):\n",
    "  distance = []\n",
    "  data_indeces_as_ints = data.reset_index(drop=True)\n",
    "  for i in data_indeces_as_ints.index:\n",
    "    Xa = np.array(data_indeces_as_ints.loc[i])\n",
    "    Xb = model.cluster_centers_[model.labels_[i]-1]\n",
    "    distance.append(np.linalg.norm(Xa-Xb))\n",
    "  return pd.Series(distance, index=data.index)"
   ]
  },
  {
   "cell_type": "code",
   "execution_count": null,
   "metadata": {},
   "outputs": [],
   "source": [
    "# this value has to be tuned \n",
    "outliers_fractions = 0.13\n",
    "\n",
    "distance = getDistanceBetweenPointsAndCentroid(data, kmeans)\n",
    "\n",
    "number_of_outliers = int(outliers_fractions*len(distance))\n",
    "\n",
    "threshold_distance = distance.nlargest(number_of_outliers).min()\n",
    "\n",
    "data['anomaly2'] = (distance >= threshold_distance).astype(int)"
   ]
  },
  {
   "cell_type": "markdown",
   "metadata": {},
   "source": [
    "Plotting"
   ]
  },
  {
   "cell_type": "code",
   "execution_count": null,
   "metadata": {},
   "outputs": [],
   "source": [
    "a = data[data['anomaly2'] == 1] #anomaly\n",
    "_ = plt.figure(figsize=(18,6))\n",
    "_ = plt.plot(data['PWHEAMTUSDM'], color='blue', label='Normal')\n",
    "_ = plt.plot(a['PWHEAMTUSDM'], linestyle='none', marker='X', color='red', markersize=12, label='Anomaly')\n",
    "_ = plt.xlabel('Year')\n",
    "_ = plt.ylabel('Wheat price in USD')\n",
    "_ = plt.title('K-means based Anomalies')\n",
    "_ = plt.legend(loc='best')\n",
    "plt.show()"
   ]
  },
  {
   "cell_type": "markdown",
   "metadata": {},
   "source": [
    "2.2. K-mean "
   ]
  },
  {
   "cell_type": "markdown",
   "metadata": {},
   "source": [
    "3.1. Isolation Forest"
   ]
  },
  {
   "cell_type": "code",
   "execution_count": null,
   "metadata": {},
   "outputs": [],
   "source": [
    "from sklearn.ensemble import IsolationForest"
   ]
  },
  {
   "cell_type": "code",
   "execution_count": null,
   "metadata": {},
   "outputs": [],
   "source": [
    "#this value has to be tuned\n",
    "outliers_fractions = 0.2\n",
    "\n",
    "model = IsolationForest(contamination=outliers_fractions)\n",
    "model.fit(data.values)\n",
    "data['anomaly3'] = model.predict(data.values)"
   ]
  },
  {
   "cell_type": "markdown",
   "metadata": {},
   "source": [
    "Plotting"
   ]
  },
  {
   "cell_type": "code",
   "execution_count": null,
   "metadata": {},
   "outputs": [],
   "source": [
    "data['anomaly3'] = pd.Series(data['anomaly3'].values, index=data.index)\n",
    "a = data.loc[data['anomaly3'] == -1] #anomaly\n",
    "_ = plt.figure(figsize=(18,6))\n",
    "_ = plt.plot(data['PWHEAMTUSDM'], color='blue', label='Normal')\n",
    "_ = plt.plot(a['PWHEAMTUSDM'], linestyle='none', marker='X', color='red', markersize=12, label='Anomaly')\n",
    "_ = plt.xlabel('Year')\n",
    "_ = plt.ylabel('Wheat price in USD')\n",
    "_ = plt.title('Isolation Forest based Anomalies')\n",
    "_ = plt.legend(loc='best')\n",
    "plt.show()\n"
   ]
  },
  {
   "cell_type": "markdown",
   "metadata": {},
   "source": [
    "3.2. Isolation Forest with optimization"
   ]
  },
  {
   "cell_type": "code",
   "execution_count": null,
   "metadata": {},
   "outputs": [],
   "source": [
    "from sklearn.model_selection import GridSearchCV\n",
    "from sklearn.metrics import make_scorer, f1_score"
   ]
  },
  {
   "cell_type": "code",
   "execution_count": null,
   "metadata": {},
   "outputs": [],
   "source": [
    "true_labels = np.zeros(len(data))\n",
    "true_labels[np.random.choice(len(data), size=int(0.2 * len(data)), replace=False)] = 1\n",
    "\n",
    "param_grid = {\n",
    "    'n_estimators': [100, 200],\n",
    "    'max_samples': ['auto', 0.8, 0.9],\n",
    "    'contamination': [0.1, 0.15, 0.2],\n",
    "    'max_features': [1.0, 0.8, 0.9]\n",
    "}\n",
    "\n",
    "if_model = IsolationForest()\n",
    "grid_search = GridSearchCV(if_model, param_grid, cv=5, scoring=make_scorer(f1_score), n_jobs=-1)\n",
    "grid_search.fit(data.values, true_labels)\n",
    "\n",
    "print(\"Best parameters found: \", grid_search.best_params_)\n",
    "best_if_model = grid_search.best_estimator_\n",
    "\n",
    "data['anomaly3optimized'] = best_if_model.predict(data.values)\n",
    "\n",
    "# Plotting\n",
    "data['anomaly3optimized'] = pd.Series(data['anomaly3optimized'].values, index=data.index)\n",
    "a = data.loc[data['anomaly3optimized'] == -1] # anomaly\n",
    "plt.figure(figsize=(18,6))\n",
    "plt.plot(data['PWHEAMTUSDM'], color='blue', label='Normal')\n",
    "plt.plot(a['PWHEAMTUSDM'], linestyle='none', marker='X', color='red', markersize=12, label='Anomaly')\n",
    "plt.xlabel('Year')\n",
    "plt.ylabel('Wheat price in USD')\n",
    "plt.title('Isolation Forest (optimized) based Anomalies')\n",
    "plt.legend(loc='best')\n",
    "plt.show()"
   ]
  }
 ],
 "metadata": {
  "kernelspec": {
   "display_name": "Python 3",
   "language": "python",
   "name": "python3"
  },
  "language_info": {
   "codemirror_mode": {
    "name": "ipython",
    "version": 3
   },
   "file_extension": ".py",
   "mimetype": "text/x-python",
   "name": "python",
   "nbconvert_exporter": "python",
   "pygments_lexer": "ipython3",
   "version": "3.11.9"
  }
 },
 "nbformat": 4,
 "nbformat_minor": 2
}
